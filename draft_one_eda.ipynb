{
 "cells": [
  {
   "cell_type": "code",
   "execution_count": null,
   "metadata": {},
   "outputs": [],
   "source": [
    "import pandas as pd\n",
    "import numpy as np\n",
    "import seaborn as sns\n",
    "import matplotlib.pyplot as plt"
   ]
  },
  {
   "cell_type": "code",
   "execution_count": null,
   "metadata": {},
   "outputs": [],
   "source": [
    "df = pd.read_csv('train-2.csv')"
   ]
  },
  {
   "cell_type": "code",
   "execution_count": null,
   "metadata": {},
   "outputs": [],
   "source": [
    "df.head(5)"
   ]
  },
  {
   "cell_type": "markdown",
   "metadata": {},
   "source": [
    "Here we will give a short explanation of all the columns in the dataframe:\n",
    "\n",
    "id: Just a unique number for each person.\n",
    "\n",
    "age: The age of the person.\n",
    "\n",
    "hypertension: Whether they have high blood pressure (1) or not (0).\n",
    "\n",
    "heart_disease: Whether they have heart disease (1) or not (0).\n",
    "\n",
    "avg_glucose_level: Their average blood sugar level.\n",
    "\n",
    "bmi: Their body mass index (a measure of body fat).\n",
    "\n",
    "gender_Female/Male/Other: The gender they identify as.\n",
    "\n",
    "ever_married_No/Yes: Whether they have ever been married or not.\n",
    "\n",
    "work_type_Govt_job/Never_worked/Private/Self-employed/children: The type of work they do or have done.\n",
    "\n",
    "Residence_type_Rural/Urban: Whether they live in a rural or urban area.\n",
    "\n",
    "smoking_status_formerly smoked/never smoked/smokes: Their smoking habits.\n",
    "\n",
    "stroke: Whether they've had a stroke (1) or not (0)."
   ]
  },
  {
   "cell_type": "markdown",
   "metadata": {},
   "source": [
    "display data types and missing values in the datafram df"
   ]
  },
  {
   "cell_type": "code",
   "execution_count": null,
   "metadata": {},
   "outputs": [],
   "source": [
    "df.info()"
   ]
  },
  {
   "cell_type": "markdown",
   "metadata": {},
   "source": [
    "In the output above we can see that there are no missing values in the dataframe. However, when we look at the data types, there are a lot of collumns that have booleans as a value. (e.g. booleans can only have 2 values: True and False). In order to apply Machine Learning on this dataset, we have to transform these boolean values into numerical values (e.g. 1 = TRUE, 0 = FALSE). If we have transformed the dataframe into only numerical values, we can apply our EDA and ML models eventually."
   ]
  },
  {
   "cell_type": "code",
   "execution_count": null,
   "metadata": {},
   "outputs": [],
   "source": [
    "df.describe()"
   ]
  },
  {
   "cell_type": "markdown",
   "metadata": {},
   "source": [
    "Transform df into only numerical values."
   ]
  },
  {
   "cell_type": "code",
   "execution_count": null,
   "metadata": {},
   "outputs": [],
   "source": [
    "# df -> df numerical values\n",
    "df_numeric = df.astype(int)\n",
    "\n",
    "# display 5 first rows of the transformed dataframe.\n",
    "df_numeric.head(5)\n",
    "df_numeric.describe()"
   ]
  },
  {
   "cell_type": "markdown",
   "metadata": {},
   "source": [
    "While looking at the data , there are 5 collumns that have continuous numerical values like: 'age', 'hypertension', 'heart_disease', 'avg_glucose_level' and 'bmi'. \n",
    "\n",
    "The other columns are only true or false statement. "
   ]
  },
  {
   "cell_type": "markdown",
   "metadata": {},
   "source": [
    "# Data cleaning\n",
    "\n",
    "We will now look at the data (the continuous values) to see if all the data is logical and consistent"
   ]
  },
  {
   "cell_type": "code",
   "execution_count": null,
   "metadata": {},
   "outputs": [],
   "source": [
    "# take a subset of the df with only the coninuous numerical values.\n",
    "df_subset = df[[\"id\", \"age\", 'hypertension', \"heart_disease\", \"avg_glucose_level\", \"bmi\", \"stroke\"]]"
   ]
  },
  {
   "cell_type": "code",
   "execution_count": null,
   "metadata": {},
   "outputs": [],
   "source": [
    "df_subset.head(5)\n",
    "df_subset.describe()"
   ]
  },
  {
   "cell_type": "code",
   "execution_count": null,
   "metadata": {},
   "outputs": [],
   "source": [
    "# Plot distribution for each integer column\n",
    "def plot_distributions(df_subset):\n",
    "    for col in df_subset.columns:\n",
    "        plt.figure(figsize=(6, 4))\n",
    "        sns.countplot(x=col, data=df_subset)\n",
    "        plt.title(f'Count Plot of {col}')\n",
    "        plt.show()\n",
    "\n",
    "# Call the function to plot all columns in your df_subset\n",
    "plot_distributions(df_subset)# Function to plot boxplots for each integer column\n",
    "def plot_boxplots(df_subset):\n",
    "    for col in df_subset.columns:\n",
    "        plt.figure(figsize=(6, 4))\n",
    "        sns.boxplot(y=df_subset[col])\n",
    "        plt.title(f'Boxplot of {col}')\n",
    "        plt.show()\n",
    "\n",
    "# Call the function to plot boxplots for all columns in your df_subset\n",
    "plot_boxplots(df_subset)"
   ]
  },
  {
   "cell_type": "code",
   "execution_count": null,
   "metadata": {},
   "outputs": [],
   "source": [
    " #Plot boxplots for each integer column\n",
    "def plot_boxplots(df_subset):\n",
    "    for col in df_subset.columns:\n",
    "        plt.figure(figsize=(6, 4))\n",
    "        sns.boxplot(y=df_subset[col])\n",
    "        plt.title(f'Boxplot of {col}')\n",
    "        plt.show()\n",
    "\n",
    "# Call the function to plot boxplots for all columns in your df_subset\n",
    "plot_boxplots(df_subset)"
   ]
  },
  {
   "cell_type": "markdown",
   "metadata": {},
   "source": [
    "There are a lot of outliers in the columns bmi & avg_glucose_levels. \n",
    "According to general medical knowlege. An assumption we could make is that people with an high BMI, average glucose level get more strokes.\n",
    "\n",
    "To test this theory, we will find out how many people had a stroke in total, how many people with a high BMI got a stroke and how many \n",
    "people with high BMI also got a stroke. "
   ]
  },
  {
   "cell_type": "code",
   "execution_count": null,
   "metadata": {},
   "outputs": [],
   "source": [
    "#make 2 df's with stroke and now stroke.\n",
    "\n",
    "df_stroke = df_subset[df_subset['stroke'] == 1]"
   ]
  },
  {
   "cell_type": "code",
   "execution_count": null,
   "metadata": {},
   "outputs": [],
   "source": [
    "display(df_stroke)\n",
    "\n",
    "print(\"median glucose level of stroke patients\" + str(\" \") + str(df_stroke['avg_glucose_level'].median()))\n",
    "print(\"median glucose level of all patients\" + str(\" \") + str(df['avg_glucose_level'].median()))\n",
    "\n",
    "print(\"Median age of all patients\" + str(\" \") + str(df['age'].median()))\n",
    "print(\"median age of stroke patients\" + str(\" \") + str(df_stroke['age'].median()))\n",
    "\n",
    "\n",
    "plt.figure(figsize=(8, 6))\n",
    "plt.boxplot(df_stroke[\"age\"], vert=False)\n",
    "plt.title(\"Boxplot of the age of stroke patients\")\n",
    "plt.xlabel(\"Age\")\n",
    "plt.show()"
   ]
  },
  {
   "cell_type": "markdown",
   "metadata": {},
   "source": [
    "median glucose level of stroke patients 104.12\n",
    "median glucose level of all patients 91.32\n",
    "Median age of all patients 43.0\n",
    "median age of stroke patients 72.0"
   ]
  },
  {
   "cell_type": "code",
   "execution_count": null,
   "metadata": {},
   "outputs": [],
   "source": [
    "df_stroke_and_overweight = df_stroke[df_stroke['bmi'] >= 25]\n",
    "display(df_stroke_and_overweight) "
   ]
  },
  {
   "cell_type": "markdown",
   "metadata": {},
   "source": [
    "According to the WHO organization people with a bmi score over 25 are overweight. \n",
    "In the dataset there are 517 cases of people who had a stroke. \n",
    "\n",
    "When filtering the people who had a stroke and a bmi over 25, which means that they are overweight. We see that 414 people suffered from a stoke.\n",
    "This strongly indicates that a majority of the patient who are overweight suffered a stroke. \n",
    "\n",
    "In conclusion this means that approx. 80% of overweight people also suffered from a stroke according to this dataset."
   ]
  },
  {
   "cell_type": "code",
   "execution_count": null,
   "metadata": {},
   "outputs": [],
   "source": [
    "df_stroke_and_hypertension = df_stroke[df_stroke['hypertension'] == 1]\n",
    "display(df_stroke_and_hypertension)"
   ]
  },
  {
   "cell_type": "code",
   "execution_count": null,
   "metadata": {},
   "outputs": [],
   "source": [
    "from sklearn.linear_model import LogisticRegression\n",
    "\n",
    "# Create the logistic regression model with balanced class weights\n",
    "model = LogisticRegression(class_weight='balanced')\n",
    "model.fit(X, y)\n",
    "\n",
    "# Check the coefficient again\n",
    "print(f'Coefficient for BMI (with class weighting): {model.coef_}')"
   ]
  },
  {
   "cell_type": "code",
   "execution_count": null,
   "metadata": {},
   "outputs": [],
   "source": [
    "from sklearn.linear_model import LogisticRegression\n",
    "\n",
    "# Create the logistic regression model with balanced class weights\n",
    "model = LogisticRegression(class_weight='balanced')\n",
    "model.fit(X, y)\n",
    "\n",
    "# Check the coefficient again\n",
    "print(f'Coefficient for BMI (with class weighting): {model.coef_}')"
   ]
  }
 ],
 "metadata": {
  "kernelspec": {
   "display_name": "base",
   "language": "python",
   "name": "python3"
  },
  "language_info": {
   "name": "python",
   "version": "3.8.8"
  }
 },
 "nbformat": 4,
 "nbformat_minor": 2
}
